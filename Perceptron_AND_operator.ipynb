{
  "nbformat": 4,
  "nbformat_minor": 0,
  "metadata": {
    "colab": {
      "provenance": []
    },
    "kernelspec": {
      "name": "python3",
      "display_name": "Python 3"
    },
    "language_info": {
      "name": "python"
    }
  },
  "cells": [
    {
      "cell_type": "markdown",
      "source": [
        "## Inputs, Outputs and Weights"
      ],
      "metadata": {
        "id": "Wmzp5OhDPjet"
      }
    },
    {
      "cell_type": "code",
      "source": [
        "import numpy as np"
      ],
      "metadata": {
        "id": "ZKX86NqcPnhT"
      },
      "execution_count": 1,
      "outputs": []
    },
    {
      "cell_type": "code",
      "source": [
        "inputs=np.array([[0,0], [0,1], [1,0], [1,1]])"
      ],
      "metadata": {
        "id": "RdT-xtMFPlwU"
      },
      "execution_count": 2,
      "outputs": []
    },
    {
      "cell_type": "code",
      "source": [
        "outputs=np.array([0, 0, 0, 1])"
      ],
      "metadata": {
        "id": "ItgiABZeSZbU"
      },
      "execution_count": 3,
      "outputs": []
    },
    {
      "cell_type": "code",
      "source": [
        "weights=np.array([0.0, 0.0])"
      ],
      "metadata": {
        "id": "WD3BjpquPvo4"
      },
      "execution_count": 4,
      "outputs": []
    },
    {
      "cell_type": "code",
      "source": [
        "learning_rate=0.1"
      ],
      "metadata": {
        "id": "CQCbRiD6P5sX"
      },
      "execution_count": 5,
      "outputs": []
    },
    {
      "cell_type": "markdown",
      "source": [
        "#Step Function"
      ],
      "metadata": {
        "id": "ESbFfIWfP_4D"
      }
    },
    {
      "cell_type": "code",
      "source": [
        "def step(sum):\n",
        "  if sum>=1:\n",
        "    return 1\n",
        "  return 0"
      ],
      "metadata": {
        "id": "1IejiLDNP72m"
      },
      "execution_count": 6,
      "outputs": []
    },
    {
      "cell_type": "markdown",
      "source": [
        "#Calculation Of Output"
      ],
      "metadata": {
        "id": "SDQrL7pHQSEv"
      }
    },
    {
      "cell_type": "code",
      "source": [
        "def calc(instance):\n",
        "  s=instance.dot(weights)\n",
        "  return step(s)"
      ],
      "metadata": {
        "id": "1SSQxweCQQuc"
      },
      "execution_count": 7,
      "outputs": []
    },
    {
      "cell_type": "code",
      "source": [
        "calc(np.array([0,0]))"
      ],
      "metadata": {
        "colab": {
          "base_uri": "https://localhost:8080/"
        },
        "id": "6oBLPyDYQf0b",
        "outputId": "6e9836bf-c174-4928-fbb9-fd48871592c5"
      },
      "execution_count": 8,
      "outputs": [
        {
          "output_type": "execute_result",
          "data": {
            "text/plain": [
              "0"
            ]
          },
          "metadata": {},
          "execution_count": 8
        }
      ]
    },
    {
      "cell_type": "code",
      "source": [
        "calc(np.array([1,1]))"
      ],
      "metadata": {
        "colab": {
          "base_uri": "https://localhost:8080/"
        },
        "id": "VSfIQ9UyQvXx",
        "outputId": "6dcbd0e5-0d93-493d-ad57-aece10342411"
      },
      "execution_count": 9,
      "outputs": [
        {
          "output_type": "execute_result",
          "data": {
            "text/plain": [
              "0"
            ]
          },
          "metadata": {},
          "execution_count": 9
        }
      ]
    },
    {
      "cell_type": "markdown",
      "source": [
        "# Training perceptron"
      ],
      "metadata": {
        "id": "9eeRwj7jtk-C"
      }
    },
    {
      "cell_type": "code",
      "source": [
        "len(outputs)"
      ],
      "metadata": {
        "colab": {
          "base_uri": "https://localhost:8080/"
        },
        "id": "txHcwQ325TcQ",
        "outputId": "19a8c405-dac1-4f9a-97c2-230f00e76ca3"
      },
      "execution_count": 10,
      "outputs": [
        {
          "output_type": "execute_result",
          "data": {
            "text/plain": [
              "4"
            ]
          },
          "metadata": {},
          "execution_count": 10
        }
      ]
    },
    {
      "cell_type": "code",
      "source": [
        "def train():\n",
        "  total_error = 1\n",
        "  while (total_error != 0):\n",
        "    total_error = 0\n",
        "    for i in range(len(outputs)):\n",
        "      prediction = calc(inputs[i])\n",
        "      error = abs(outputs[i] - prediction)\n",
        "      total_error += error\n",
        "      if error > 0:\n",
        "        for j in range(len(weights)):\n",
        "          weights[j] = weights[j] + (learning_rate * inputs[i][j] * error)\n",
        "          print('Weight updated: ' + str(weights[j]))\n",
        "    print('Total error: ' + str(total_error))"
      ],
      "metadata": {
        "id": "XWZ1aE-9Qx25"
      },
      "execution_count": 11,
      "outputs": []
    },
    {
      "cell_type": "code",
      "source": [
        "train()"
      ],
      "metadata": {
        "colab": {
          "base_uri": "https://localhost:8080/"
        },
        "id": "ZnEUsL7U6YnF",
        "outputId": "186f7536-4bfb-4292-ea8a-a6e5e7b87714"
      },
      "execution_count": 12,
      "outputs": [
        {
          "output_type": "stream",
          "name": "stdout",
          "text": [
            "Weight updated: 0.1\n",
            "Weight updated: 0.1\n",
            "Total error: 1\n",
            "Weight updated: 0.2\n",
            "Weight updated: 0.2\n",
            "Total error: 1\n",
            "Weight updated: 0.30000000000000004\n",
            "Weight updated: 0.30000000000000004\n",
            "Total error: 1\n",
            "Weight updated: 0.4\n",
            "Weight updated: 0.4\n",
            "Total error: 1\n",
            "Weight updated: 0.5\n",
            "Weight updated: 0.5\n",
            "Total error: 1\n",
            "Total error: 0\n"
          ]
        }
      ]
    },
    {
      "cell_type": "markdown",
      "source": [
        "#Learned weights"
      ],
      "metadata": {
        "id": "7CB-6gV-GM5G"
      }
    },
    {
      "cell_type": "code",
      "source": [
        "weights"
      ],
      "metadata": {
        "id": "3Ok4huaY7AYw",
        "colab": {
          "base_uri": "https://localhost:8080/"
        },
        "outputId": "0cab7a05-0e27-43d5-833b-1c257bad89f7"
      },
      "execution_count": 13,
      "outputs": [
        {
          "output_type": "execute_result",
          "data": {
            "text/plain": [
              "array([0.5, 0.5])"
            ]
          },
          "metadata": {},
          "execution_count": 13
        }
      ]
    },
    {
      "cell_type": "markdown",
      "source": [
        "#Predicting outputs"
      ],
      "metadata": {
        "id": "j9FPiKuzGQth"
      }
    },
    {
      "cell_type": "code",
      "source": [
        "calc(np.array([1,1]))"
      ],
      "metadata": {
        "colab": {
          "base_uri": "https://localhost:8080/"
        },
        "id": "iwbH26rV7wEt",
        "outputId": "787a4246-b6d2-4c56-af4e-3fb626b5a99b"
      },
      "execution_count": 14,
      "outputs": [
        {
          "output_type": "execute_result",
          "data": {
            "text/plain": [
              "1"
            ]
          },
          "metadata": {},
          "execution_count": 14
        }
      ]
    },
    {
      "cell_type": "code",
      "source": [
        "calc(np.array([0,1]))"
      ],
      "metadata": {
        "colab": {
          "base_uri": "https://localhost:8080/"
        },
        "id": "dyeLi-Hd71F2",
        "outputId": "55c26963-e522-4f16-8451-f10eb3ceee3a"
      },
      "execution_count": 15,
      "outputs": [
        {
          "output_type": "execute_result",
          "data": {
            "text/plain": [
              "0"
            ]
          },
          "metadata": {},
          "execution_count": 15
        }
      ]
    },
    {
      "cell_type": "code",
      "source": [
        "calc(np.array([1,0]))"
      ],
      "metadata": {
        "colab": {
          "base_uri": "https://localhost:8080/"
        },
        "id": "cbGnLVBx73g-",
        "outputId": "98a91a65-102d-4ed4-a907-09896c845019"
      },
      "execution_count": 16,
      "outputs": [
        {
          "output_type": "execute_result",
          "data": {
            "text/plain": [
              "0"
            ]
          },
          "metadata": {},
          "execution_count": 16
        }
      ]
    },
    {
      "cell_type": "code",
      "source": [
        "calc(np.array([0,0]))"
      ],
      "metadata": {
        "colab": {
          "base_uri": "https://localhost:8080/"
        },
        "id": "gVVzmKeI75hS",
        "outputId": "496c61ee-11ab-4c5a-8ac7-049de447db7b"
      },
      "execution_count": 17,
      "outputs": [
        {
          "output_type": "execute_result",
          "data": {
            "text/plain": [
              "0"
            ]
          },
          "metadata": {},
          "execution_count": 17
        }
      ]
    }
  ]
}